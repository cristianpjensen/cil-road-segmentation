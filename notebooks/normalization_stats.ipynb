{
 "cells": [
  {
   "cell_type": "markdown",
   "id": "inclusive-graphics",
   "metadata": {},
   "source": [
    "# Pre-compute statistics of data\n",
    "\n",
    "These stats are used for normalizing the data, but can get quite expensive, so pre-computing it is easier."
   ]
  },
  {
   "cell_type": "code",
   "execution_count": 1,
   "id": "federal-clothing",
   "metadata": {},
   "outputs": [],
   "source": [
    "import torch\n",
    "import torchvision\n",
    "from glob import glob"
   ]
  },
  {
   "cell_type": "markdown",
   "id": "expected-overhead",
   "metadata": {},
   "source": [
    "## Provided dataset"
   ]
  },
  {
   "cell_type": "code",
   "execution_count": 2,
   "id": "designing-disco",
   "metadata": {},
   "outputs": [],
   "source": [
    "imgs = []\n",
    "for filename in glob(\"../data/*/images/*.png\"):\n",
    "    img = torchvision.io.read_image(filename, torchvision.io.ImageReadMode.RGB)\n",
    "    imgs.append(img.unsqueeze(0).float() / 255)\n",
    "    \n",
    "imgs = torch.cat(imgs)"
   ]
  },
  {
   "cell_type": "code",
   "execution_count": 3,
   "id": "equal-bradley",
   "metadata": {},
   "outputs": [
    {
     "data": {
      "text/plain": [
       "torch.Size([288, 3, 400, 400])"
      ]
     },
     "execution_count": 3,
     "metadata": {},
     "output_type": "execute_result"
    }
   ],
   "source": [
    "imgs.shape"
   ]
  },
  {
   "cell_type": "markdown",
   "id": "otherwise-castle",
   "metadata": {},
   "source": [
    "## External Google Maps dataset"
   ]
  },
  {
   "cell_type": "code",
   "execution_count": 5,
   "id": "charged-robinson",
   "metadata": {},
   "outputs": [],
   "source": [
    "google_imgs = []\n",
    "for filename in glob(\"../scraped_data/images/*.png\"):\n",
    "    img = torchvision.io.read_image(filename, torchvision.io.ImageReadMode.RGB)\n",
    "    google_imgs.append(img.unsqueeze(0).float() / 255)\n",
    "    \n",
    "google_imgs = torch.cat(google_imgs)"
   ]
  },
  {
   "cell_type": "code",
   "execution_count": 6,
   "id": "worse-summer",
   "metadata": {},
   "outputs": [
    {
     "data": {
      "text/plain": [
       "torch.Size([1980, 3, 400, 400])"
      ]
     },
     "execution_count": 6,
     "metadata": {},
     "output_type": "execute_result"
    }
   ],
   "source": [
    "google_imgs.shape"
   ]
  },
  {
   "cell_type": "code",
   "execution_count": 7,
   "id": "combined-drunk",
   "metadata": {},
   "outputs": [],
   "source": [
    "imgs = torch.cat([imgs, google_imgs])"
   ]
  },
  {
   "cell_type": "code",
   "execution_count": 8,
   "id": "disturbed-location",
   "metadata": {},
   "outputs": [
    {
     "data": {
      "text/plain": [
       "torch.Size([2268, 3, 400, 400])"
      ]
     },
     "execution_count": 8,
     "metadata": {},
     "output_type": "execute_result"
    }
   ],
   "source": [
    "imgs.shape"
   ]
  },
  {
   "cell_type": "code",
   "execution_count": 10,
   "id": "champion-excitement",
   "metadata": {},
   "outputs": [
    {
     "name": "stdout",
     "output_type": "stream",
     "text": [
      "Mean: tensor([0.4731, 0.4785, 0.4654])\n",
      "Std: tensor([0.2268, 0.2076, 0.1975])\n"
     ]
    }
   ],
   "source": [
    "mean = imgs.mean(dim=[0, 2, 3])\n",
    "std = imgs.std(dim=[0, 2, 3])\n",
    "print(\"Mean:\", mean)\n",
    "print(\"Std:\", std)"
   ]
  },
  {
   "cell_type": "code",
   "execution_count": null,
   "id": "muslim-russia",
   "metadata": {},
   "outputs": [],
   "source": []
  }
 ],
 "metadata": {
  "kernelspec": {
   "display_name": "Python 3",
   "language": "python",
   "name": "python3"
  },
  "language_info": {
   "codemirror_mode": {
    "name": "ipython",
    "version": 3
   },
   "file_extension": ".py",
   "mimetype": "text/x-python",
   "name": "python",
   "nbconvert_exporter": "python",
   "pygments_lexer": "ipython3",
   "version": "3.9.17"
  }
 },
 "nbformat": 4,
 "nbformat_minor": 5
}
