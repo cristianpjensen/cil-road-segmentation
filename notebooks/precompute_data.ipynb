{
 "cells": [
  {
   "cell_type": "markdown",
   "id": "inclusive-graphics",
   "metadata": {},
   "source": [
    "# Pre-compute statistics of data\n",
    "\n",
    "These stats are used for normalizing the data, but can get quite expensive, so pre-computing it is easier."
   ]
  },
  {
   "cell_type": "code",
   "execution_count": 1,
   "id": "federal-clothing",
   "metadata": {},
   "outputs": [],
   "source": [
    "import torch\n",
    "import torchvision\n",
    "from glob import glob"
   ]
  },
  {
   "cell_type": "code",
   "execution_count": 2,
   "id": "designing-disco",
   "metadata": {},
   "outputs": [],
   "source": [
    "imgs = []\n",
    "for filename in glob(\"../data/*/images/*.png\"):\n",
    "    img = torchvision.io.read_image(filename, torchvision.io.ImageReadMode.RGB)\n",
    "    imgs.append(img.unsqueeze(0).float())\n",
    "    \n",
    "imgs = torch.cat(imgs)"
   ]
  },
  {
   "cell_type": "code",
   "execution_count": 3,
   "id": "equal-bradley",
   "metadata": {},
   "outputs": [
    {
     "data": {
      "text/plain": [
       "torch.Size([288, 3, 400, 400])"
      ]
     },
     "execution_count": 3,
     "metadata": {},
     "output_type": "execute_result"
    }
   ],
   "source": [
    "imgs.shape"
   ]
  },
  {
   "cell_type": "code",
   "execution_count": 4,
   "id": "collective-checklist",
   "metadata": {},
   "outputs": [],
   "source": [
    "mean = imgs.mean(dim=[0, 2, 3], keepdim=True)\n",
    "std = imgs.std(dim=[0, 2, 3], keepdim=True)\n",
    "torch.save({ \"channel_means\": mean, \"channel_stds\": std }, \"../data/stats.pt\")"
   ]
  },
  {
   "cell_type": "code",
   "execution_count": null,
   "id": "present-steel",
   "metadata": {},
   "outputs": [],
   "source": []
  }
 ],
 "metadata": {
  "kernelspec": {
   "display_name": "Python 3",
   "language": "python",
   "name": "python3"
  },
  "language_info": {
   "codemirror_mode": {
    "name": "ipython",
    "version": 3
   },
   "file_extension": ".py",
   "mimetype": "text/x-python",
   "name": "python",
   "nbconvert_exporter": "python",
   "pygments_lexer": "ipython3",
   "version": "3.9.17"
  }
 },
 "nbformat": 4,
 "nbformat_minor": 5
}
