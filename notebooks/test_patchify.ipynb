{
 "cells": [
  {
   "cell_type": "code",
   "execution_count": 1,
   "id": "handy-perspective",
   "metadata": {},
   "outputs": [],
   "source": [
    "import torch\n",
    "import matplotlib.pyplot as plt\n",
    "from torchvision.io import read_image, ImageReadMode\n",
    "\n",
    "from evaluation import patchify, get_mask, PATCH_SIZE as P"
   ]
  },
  {
   "cell_type": "code",
   "execution_count": 2,
   "id": "regulated-duplicate",
   "metadata": {},
   "outputs": [],
   "source": [
    "input_CHW = read_image(\"data/training/images/satimage_1.png\", ImageReadMode.RGB).float() / 255\n",
    "target_HW = read_image(\"data/training/groundtruth/satimage_1.png\", ImageReadMode.GRAY).squeeze(0).float() / 255"
   ]
  },
  {
   "cell_type": "code",
   "execution_count": 3,
   "id": "appreciated-cable",
   "metadata": {},
   "outputs": [],
   "source": [
    "H = input_CHW.shape[1]\n",
    "W = input_CHW.shape[2]"
   ]
  },
  {
   "cell_type": "code",
   "execution_count": null,
   "id": "eleven-college",
   "metadata": {},
   "outputs": [],
   "source": [
    "input_patches_CMNPP = patchify(input_CHW)\n",
    "\n",
    "figure, axis = plt.subplots(H // P, W // P, figsize=(10, 10))\n",
    "\n",
    "for i in range(H // P):\n",
    "    for j in range(W // P):\n",
    "        axis[i][j].imshow(input_patches_CMNPP[:, i, j].permute(1, 2, 0))\n",
    "        axis[i][j].set_xticks([])\n",
    "        axis[i][j].set_yticks([])\n",
    "\n",
    "plt.show()"
   ]
  },
  {
   "cell_type": "code",
   "execution_count": null,
   "id": "pleasant-dividend",
   "metadata": {},
   "outputs": [],
   "source": [
    "plt.imshow(input_CHW.permute(1, 2, 0), cmap=\"gray\", vmin=0, vmax=1)\n",
    "plt.show()"
   ]
  },
  {
   "cell_type": "code",
   "execution_count": null,
   "id": "signed-exhaust",
   "metadata": {},
   "outputs": [],
   "source": [
    "mask_HW = get_mask(target_HW)"
   ]
  },
  {
   "cell_type": "code",
   "execution_count": null,
   "id": "apparent-joyce",
   "metadata": {},
   "outputs": [],
   "source": [
    "red_mask_CHW = mask_HW.unsqueeze(0) * torch.tensor([1, 0, 0]).unsqueeze(-1).unsqueeze(-1)\n",
    "overlay_CHW = input_CHW\n",
    "overlay_CHW[:, mask_HW.bool()] *= 0.5\n",
    "overlay_CHW += 0.5 * red_mask_CHW"
   ]
  },
  {
   "cell_type": "code",
   "execution_count": null,
   "id": "pacific-release",
   "metadata": {},
   "outputs": [],
   "source": [
    "plt.imshow(overlay_CHW.permute(1, 2, 0))\n",
    "plt.show()"
   ]
  },
  {
   "cell_type": "code",
   "execution_count": null,
   "id": "accredited-verse",
   "metadata": {},
   "outputs": [],
   "source": []
  }
 ],
 "metadata": {
  "kernelspec": {
   "display_name": "Python 3",
   "language": "python",
   "name": "python3"
  },
  "language_info": {
   "codemirror_mode": {
    "name": "ipython",
    "version": 3
   },
   "file_extension": ".py",
   "mimetype": "text/x-python",
   "name": "python",
   "nbconvert_exporter": "python",
   "pygments_lexer": "ipython3",
   "version": "3.9.17"
  }
 },
 "nbformat": 4,
 "nbformat_minor": 5
}
