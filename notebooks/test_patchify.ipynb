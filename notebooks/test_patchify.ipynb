{
 "cells": [
  {
   "cell_type": "code",
   "execution_count": 1,
   "id": "handy-perspective",
   "metadata": {},
   "outputs": [],
   "source": [
    "import torch\n",
    "import matplotlib.pyplot as plt\n",
    "\n",
    "from evaluation import patchify"
   ]
  },
  {
   "cell_type": "code",
   "execution_count": 2,
   "id": "appreciated-cable",
   "metadata": {},
   "outputs": [],
   "source": [
    "B = 1\n",
    "H = 8\n",
    "W = 8\n",
    "PATCH_SIZE = 2\n",
    "\n",
    "x_BHW = torch.rand((B, H, W))"
   ]
  },
  {
   "cell_type": "code",
   "execution_count": 4,
   "id": "eleven-college",
   "metadata": {},
   "outputs": [
    {
     "data": {
      "image/png": "[encoded data removed]",
      "text/plain": [
       "<Figure size 432x288 with 16 Axes>"
      ]
     },
     "metadata": {},
     "output_type": "display_data"
    }
   ],
   "source": [
    "y_BDPP = patchify(x_BHW, patch_size=PATCH_SIZE)\n",
    "\n",
    "figure, axis = plt.subplots(H // PATCH_SIZE, W // PATCH_SIZE)\n",
    "\n",
    "for i in range(H // PATCH_SIZE):\n",
    "    for j in range(W // PATCH_SIZE):\n",
    "        axis[i][j].imshow(y_BDPP[0][i * (H // PATCH_SIZE) + j], cmap=\"gray\", vmin=0, vmax=1)\n",
    "        axis[i][j].set_xticks([])\n",
    "        axis[i][j].set_yticks([])\n",
    "\n",
    "plt.show()"
   ]
  },
  {
   "cell_type": "code",
   "execution_count": 5,
   "id": "pleasant-dividend",
   "metadata": {},
   "outputs": [
    {
     "data": {
      "image/png": "[encoded data removed]",
      "text/plain": [
       "<Figure size 432x288 with 1 Axes>"
      ]
     },
     "metadata": {
      "needs_background": "light"
     },
     "output_type": "display_data"
    }
   ],
   "source": [
    "plt.imshow(x_BHW[0], cmap=\"gray\", vmin=0, vmax=1)\n",
    "plt.show()"
   ]
  },
  {
   "cell_type": "code",
   "execution_count": null,
   "id": "unable-composer",
   "metadata": {},
   "outputs": [],
   "source": []
  }
 ],
 "metadata": {
  "kernelspec": {
   "display_name": "Python 3",
   "language": "python",
   "name": "python3"
  },
  "language_info": {
   "codemirror_mode": {
    "name": "ipython",
    "version": 3
   },
   "file_extension": ".py",
   "mimetype": "text/x-python",
   "name": "python",
   "nbconvert_exporter": "python",
   "pygments_lexer": "ipython3",
   "version": "3.9.17"
  }
 },
 "nbformat": 4,
 "nbformat_minor": 5
}
